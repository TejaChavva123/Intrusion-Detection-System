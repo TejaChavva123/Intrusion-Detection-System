{
 "cells": [
  {
   "cell_type": "code",
   "execution_count": 1,
   "id": "288e44aa",
   "metadata": {},
   "outputs": [],
   "source": [
    "#importing libraries\n",
    "import numpy as np\n",
    "import pandas as pd\n",
    "\n",
    "#importing libraries used for data visualization\n",
    "import matplotlib.pyplot as plt\n",
    "import seaborn as sns\n",
    "\n",
    "#libraries used for modelbuilding\n",
    "import sklearn\n",
    "\n",
    "#libraries used to depress the warnings\n",
    "import warnings\n",
    "warnings.filterwarnings('ignore')"
   ]
  },
  {
   "cell_type": "markdown",
   "id": "dbe670e3",
   "metadata": {},
   "source": [
    "# Loading the dataset"
   ]
  },
  {
   "cell_type": "code",
   "execution_count": 2,
   "id": "f7f498ec",
   "metadata": {},
   "outputs": [],
   "source": [
    "#importing the dataset\n",
    "df = pd.read_csv('CICIDS2017_sample.csv')"
   ]
  },
  {
   "cell_type": "code",
   "execution_count": 3,
   "id": "68a917c4",
   "metadata": {},
   "outputs": [
    {
     "data": {
      "text/html": [
       "<div>\n",
       "<style scoped>\n",
       "    .dataframe tbody tr th:only-of-type {\n",
       "        vertical-align: middle;\n",
       "    }\n",
       "\n",
       "    .dataframe tbody tr th {\n",
       "        vertical-align: top;\n",
       "    }\n",
       "\n",
       "    .dataframe thead th {\n",
       "        text-align: right;\n",
       "    }\n",
       "</style>\n",
       "<table border=\"1\" class=\"dataframe\">\n",
       "  <thead>\n",
       "    <tr style=\"text-align: right;\">\n",
       "      <th></th>\n",
       "      <th>Flow Duration</th>\n",
       "      <th>Total Fwd Packets</th>\n",
       "      <th>Total Backward Packets</th>\n",
       "      <th>Total Length of Fwd Packets</th>\n",
       "      <th>Total Length of Bwd Packets</th>\n",
       "      <th>Fwd Packet Length Max</th>\n",
       "      <th>Fwd Packet Length Min</th>\n",
       "      <th>Fwd Packet Length Mean</th>\n",
       "      <th>Fwd Packet Length Std</th>\n",
       "      <th>Bwd Packet Length Max</th>\n",
       "      <th>...</th>\n",
       "      <th>min_seg_size_forward</th>\n",
       "      <th>Active Mean</th>\n",
       "      <th>Active Std</th>\n",
       "      <th>Active Max</th>\n",
       "      <th>Active Min</th>\n",
       "      <th>Idle Mean</th>\n",
       "      <th>Idle Std</th>\n",
       "      <th>Idle Max</th>\n",
       "      <th>Idle Min</th>\n",
       "      <th>Label</th>\n",
       "    </tr>\n",
       "  </thead>\n",
       "  <tbody>\n",
       "    <tr>\n",
       "      <th>0</th>\n",
       "      <td>4</td>\n",
       "      <td>2</td>\n",
       "      <td>0</td>\n",
       "      <td>37</td>\n",
       "      <td>0</td>\n",
       "      <td>31</td>\n",
       "      <td>6</td>\n",
       "      <td>18.500000</td>\n",
       "      <td>17.677670</td>\n",
       "      <td>0</td>\n",
       "      <td>...</td>\n",
       "      <td>20</td>\n",
       "      <td>0.0</td>\n",
       "      <td>0.0</td>\n",
       "      <td>0</td>\n",
       "      <td>0</td>\n",
       "      <td>0.0</td>\n",
       "      <td>0.0</td>\n",
       "      <td>0</td>\n",
       "      <td>0</td>\n",
       "      <td>BENIGN</td>\n",
       "    </tr>\n",
       "    <tr>\n",
       "      <th>1</th>\n",
       "      <td>142377</td>\n",
       "      <td>46</td>\n",
       "      <td>62</td>\n",
       "      <td>1325</td>\n",
       "      <td>105855</td>\n",
       "      <td>570</td>\n",
       "      <td>0</td>\n",
       "      <td>28.804348</td>\n",
       "      <td>111.407285</td>\n",
       "      <td>4344</td>\n",
       "      <td>...</td>\n",
       "      <td>20</td>\n",
       "      <td>0.0</td>\n",
       "      <td>0.0</td>\n",
       "      <td>0</td>\n",
       "      <td>0</td>\n",
       "      <td>0.0</td>\n",
       "      <td>0.0</td>\n",
       "      <td>0</td>\n",
       "      <td>0</td>\n",
       "      <td>BENIGN</td>\n",
       "    </tr>\n",
       "    <tr>\n",
       "      <th>2</th>\n",
       "      <td>118873</td>\n",
       "      <td>23</td>\n",
       "      <td>28</td>\n",
       "      <td>1169</td>\n",
       "      <td>45025</td>\n",
       "      <td>570</td>\n",
       "      <td>0</td>\n",
       "      <td>50.826087</td>\n",
       "      <td>156.137367</td>\n",
       "      <td>2896</td>\n",
       "      <td>...</td>\n",
       "      <td>32</td>\n",
       "      <td>0.0</td>\n",
       "      <td>0.0</td>\n",
       "      <td>0</td>\n",
       "      <td>0</td>\n",
       "      <td>0.0</td>\n",
       "      <td>0.0</td>\n",
       "      <td>0</td>\n",
       "      <td>0</td>\n",
       "      <td>BENIGN</td>\n",
       "    </tr>\n",
       "    <tr>\n",
       "      <th>3</th>\n",
       "      <td>143577</td>\n",
       "      <td>43</td>\n",
       "      <td>55</td>\n",
       "      <td>1301</td>\n",
       "      <td>107289</td>\n",
       "      <td>570</td>\n",
       "      <td>0</td>\n",
       "      <td>30.255814</td>\n",
       "      <td>115.178969</td>\n",
       "      <td>4344</td>\n",
       "      <td>...</td>\n",
       "      <td>20</td>\n",
       "      <td>0.0</td>\n",
       "      <td>0.0</td>\n",
       "      <td>0</td>\n",
       "      <td>0</td>\n",
       "      <td>0.0</td>\n",
       "      <td>0.0</td>\n",
       "      <td>0</td>\n",
       "      <td>0</td>\n",
       "      <td>BENIGN</td>\n",
       "    </tr>\n",
       "    <tr>\n",
       "      <th>4</th>\n",
       "      <td>143745</td>\n",
       "      <td>49</td>\n",
       "      <td>59</td>\n",
       "      <td>1331</td>\n",
       "      <td>110185</td>\n",
       "      <td>570</td>\n",
       "      <td>0</td>\n",
       "      <td>27.163265</td>\n",
       "      <td>108.067176</td>\n",
       "      <td>4344</td>\n",
       "      <td>...</td>\n",
       "      <td>20</td>\n",
       "      <td>0.0</td>\n",
       "      <td>0.0</td>\n",
       "      <td>0</td>\n",
       "      <td>0</td>\n",
       "      <td>0.0</td>\n",
       "      <td>0.0</td>\n",
       "      <td>0</td>\n",
       "      <td>0</td>\n",
       "      <td>BENIGN</td>\n",
       "    </tr>\n",
       "  </tbody>\n",
       "</table>\n",
       "<p>5 rows × 78 columns</p>\n",
       "</div>"
      ],
      "text/plain": [
       "   Flow Duration  Total Fwd Packets  Total Backward Packets  \\\n",
       "0              4                  2                       0   \n",
       "1         142377                 46                      62   \n",
       "2         118873                 23                      28   \n",
       "3         143577                 43                      55   \n",
       "4         143745                 49                      59   \n",
       "\n",
       "   Total Length of Fwd Packets  Total Length of Bwd Packets  \\\n",
       "0                           37                            0   \n",
       "1                         1325                       105855   \n",
       "2                         1169                        45025   \n",
       "3                         1301                       107289   \n",
       "4                         1331                       110185   \n",
       "\n",
       "   Fwd Packet Length Max  Fwd Packet Length Min  Fwd Packet Length Mean  \\\n",
       "0                     31                      6               18.500000   \n",
       "1                    570                      0               28.804348   \n",
       "2                    570                      0               50.826087   \n",
       "3                    570                      0               30.255814   \n",
       "4                    570                      0               27.163265   \n",
       "\n",
       "   Fwd Packet Length Std  Bwd Packet Length Max  ...  min_seg_size_forward  \\\n",
       "0              17.677670                      0  ...                    20   \n",
       "1             111.407285                   4344  ...                    20   \n",
       "2             156.137367                   2896  ...                    32   \n",
       "3             115.178969                   4344  ...                    20   \n",
       "4             108.067176                   4344  ...                    20   \n",
       "\n",
       "   Active Mean  Active Std  Active Max  Active Min  Idle Mean  Idle Std  \\\n",
       "0          0.0         0.0           0           0        0.0       0.0   \n",
       "1          0.0         0.0           0           0        0.0       0.0   \n",
       "2          0.0         0.0           0           0        0.0       0.0   \n",
       "3          0.0         0.0           0           0        0.0       0.0   \n",
       "4          0.0         0.0           0           0        0.0       0.0   \n",
       "\n",
       "   Idle Max  Idle Min   Label  \n",
       "0         0         0  BENIGN  \n",
       "1         0         0  BENIGN  \n",
       "2         0         0  BENIGN  \n",
       "3         0         0  BENIGN  \n",
       "4         0         0  BENIGN  \n",
       "\n",
       "[5 rows x 78 columns]"
      ]
     },
     "execution_count": 3,
     "metadata": {},
     "output_type": "execute_result"
    }
   ],
   "source": [
    "#reading first 5 rows\n",
    "df.head()"
   ]
  },
  {
   "cell_type": "code",
   "execution_count": 4,
   "id": "48b96306",
   "metadata": {},
   "outputs": [
    {
     "data": {
      "text/html": [
       "<div>\n",
       "<style scoped>\n",
       "    .dataframe tbody tr th:only-of-type {\n",
       "        vertical-align: middle;\n",
       "    }\n",
       "\n",
       "    .dataframe tbody tr th {\n",
       "        vertical-align: top;\n",
       "    }\n",
       "\n",
       "    .dataframe thead th {\n",
       "        text-align: right;\n",
       "    }\n",
       "</style>\n",
       "<table border=\"1\" class=\"dataframe\">\n",
       "  <thead>\n",
       "    <tr style=\"text-align: right;\">\n",
       "      <th></th>\n",
       "      <th>Flow Duration</th>\n",
       "      <th>Total Fwd Packets</th>\n",
       "      <th>Total Backward Packets</th>\n",
       "      <th>Total Length of Fwd Packets</th>\n",
       "      <th>Total Length of Bwd Packets</th>\n",
       "      <th>Fwd Packet Length Max</th>\n",
       "      <th>Fwd Packet Length Min</th>\n",
       "      <th>Fwd Packet Length Mean</th>\n",
       "      <th>Fwd Packet Length Std</th>\n",
       "      <th>Bwd Packet Length Max</th>\n",
       "      <th>...</th>\n",
       "      <th>min_seg_size_forward</th>\n",
       "      <th>Active Mean</th>\n",
       "      <th>Active Std</th>\n",
       "      <th>Active Max</th>\n",
       "      <th>Active Min</th>\n",
       "      <th>Idle Mean</th>\n",
       "      <th>Idle Std</th>\n",
       "      <th>Idle Max</th>\n",
       "      <th>Idle Min</th>\n",
       "      <th>Label</th>\n",
       "    </tr>\n",
       "  </thead>\n",
       "  <tbody>\n",
       "    <tr>\n",
       "      <th>56656</th>\n",
       "      <td>234</td>\n",
       "      <td>2</td>\n",
       "      <td>2</td>\n",
       "      <td>64</td>\n",
       "      <td>232</td>\n",
       "      <td>32</td>\n",
       "      <td>32</td>\n",
       "      <td>32.00</td>\n",
       "      <td>0.000000</td>\n",
       "      <td>116</td>\n",
       "      <td>...</td>\n",
       "      <td>32</td>\n",
       "      <td>0.0</td>\n",
       "      <td>0.0</td>\n",
       "      <td>0</td>\n",
       "      <td>0</td>\n",
       "      <td>0.0</td>\n",
       "      <td>0.0</td>\n",
       "      <td>0</td>\n",
       "      <td>0</td>\n",
       "      <td>BENIGN</td>\n",
       "    </tr>\n",
       "    <tr>\n",
       "      <th>56657</th>\n",
       "      <td>133288</td>\n",
       "      <td>2</td>\n",
       "      <td>2</td>\n",
       "      <td>94</td>\n",
       "      <td>482</td>\n",
       "      <td>47</td>\n",
       "      <td>47</td>\n",
       "      <td>47.00</td>\n",
       "      <td>0.000000</td>\n",
       "      <td>241</td>\n",
       "      <td>...</td>\n",
       "      <td>32</td>\n",
       "      <td>0.0</td>\n",
       "      <td>0.0</td>\n",
       "      <td>0</td>\n",
       "      <td>0</td>\n",
       "      <td>0.0</td>\n",
       "      <td>0.0</td>\n",
       "      <td>0</td>\n",
       "      <td>0</td>\n",
       "      <td>BENIGN</td>\n",
       "    </tr>\n",
       "    <tr>\n",
       "      <th>56658</th>\n",
       "      <td>11507694</td>\n",
       "      <td>5</td>\n",
       "      <td>4</td>\n",
       "      <td>450</td>\n",
       "      <td>3525</td>\n",
       "      <td>450</td>\n",
       "      <td>0</td>\n",
       "      <td>90.00</td>\n",
       "      <td>201.246118</td>\n",
       "      <td>3525</td>\n",
       "      <td>...</td>\n",
       "      <td>32</td>\n",
       "      <td>893.0</td>\n",
       "      <td>0.0</td>\n",
       "      <td>893</td>\n",
       "      <td>893</td>\n",
       "      <td>6503640.0</td>\n",
       "      <td>0.0</td>\n",
       "      <td>6503640</td>\n",
       "      <td>6503640</td>\n",
       "      <td>DoS</td>\n",
       "    </tr>\n",
       "    <tr>\n",
       "      <th>56659</th>\n",
       "      <td>11507707</td>\n",
       "      <td>8</td>\n",
       "      <td>6</td>\n",
       "      <td>416</td>\n",
       "      <td>11632</td>\n",
       "      <td>416</td>\n",
       "      <td>0</td>\n",
       "      <td>52.00</td>\n",
       "      <td>147.078211</td>\n",
       "      <td>5792</td>\n",
       "      <td>...</td>\n",
       "      <td>32</td>\n",
       "      <td>897.0</td>\n",
       "      <td>0.0</td>\n",
       "      <td>897</td>\n",
       "      <td>897</td>\n",
       "      <td>6503122.0</td>\n",
       "      <td>0.0</td>\n",
       "      <td>6503122</td>\n",
       "      <td>6503122</td>\n",
       "      <td>DoS</td>\n",
       "    </tr>\n",
       "    <tr>\n",
       "      <th>56660</th>\n",
       "      <td>11512204</td>\n",
       "      <td>8</td>\n",
       "      <td>5</td>\n",
       "      <td>326</td>\n",
       "      <td>11632</td>\n",
       "      <td>326</td>\n",
       "      <td>0</td>\n",
       "      <td>40.75</td>\n",
       "      <td>115.258405</td>\n",
       "      <td>10184</td>\n",
       "      <td>...</td>\n",
       "      <td>32</td>\n",
       "      <td>892.0</td>\n",
       "      <td>0.0</td>\n",
       "      <td>892</td>\n",
       "      <td>892</td>\n",
       "      <td>6507197.0</td>\n",
       "      <td>0.0</td>\n",
       "      <td>6507197</td>\n",
       "      <td>6507197</td>\n",
       "      <td>DoS</td>\n",
       "    </tr>\n",
       "  </tbody>\n",
       "</table>\n",
       "<p>5 rows × 78 columns</p>\n",
       "</div>"
      ],
      "text/plain": [
       "       Flow Duration  Total Fwd Packets  Total Backward Packets  \\\n",
       "56656            234                  2                       2   \n",
       "56657         133288                  2                       2   \n",
       "56658       11507694                  5                       4   \n",
       "56659       11507707                  8                       6   \n",
       "56660       11512204                  8                       5   \n",
       "\n",
       "       Total Length of Fwd Packets  Total Length of Bwd Packets  \\\n",
       "56656                           64                          232   \n",
       "56657                           94                          482   \n",
       "56658                          450                         3525   \n",
       "56659                          416                        11632   \n",
       "56660                          326                        11632   \n",
       "\n",
       "       Fwd Packet Length Max  Fwd Packet Length Min  Fwd Packet Length Mean  \\\n",
       "56656                     32                     32                   32.00   \n",
       "56657                     47                     47                   47.00   \n",
       "56658                    450                      0                   90.00   \n",
       "56659                    416                      0                   52.00   \n",
       "56660                    326                      0                   40.75   \n",
       "\n",
       "       Fwd Packet Length Std  Bwd Packet Length Max  ...  \\\n",
       "56656               0.000000                    116  ...   \n",
       "56657               0.000000                    241  ...   \n",
       "56658             201.246118                   3525  ...   \n",
       "56659             147.078211                   5792  ...   \n",
       "56660             115.258405                  10184  ...   \n",
       "\n",
       "       min_seg_size_forward  Active Mean  Active Std  Active Max  Active Min  \\\n",
       "56656                    32          0.0         0.0           0           0   \n",
       "56657                    32          0.0         0.0           0           0   \n",
       "56658                    32        893.0         0.0         893         893   \n",
       "56659                    32        897.0         0.0         897         897   \n",
       "56660                    32        892.0         0.0         892         892   \n",
       "\n",
       "       Idle Mean  Idle Std  Idle Max  Idle Min   Label  \n",
       "56656        0.0       0.0         0         0  BENIGN  \n",
       "56657        0.0       0.0         0         0  BENIGN  \n",
       "56658  6503640.0       0.0   6503640   6503640     DoS  \n",
       "56659  6503122.0       0.0   6503122   6503122     DoS  \n",
       "56660  6507197.0       0.0   6507197   6507197     DoS  \n",
       "\n",
       "[5 rows x 78 columns]"
      ]
     },
     "execution_count": 4,
     "metadata": {},
     "output_type": "execute_result"
    }
   ],
   "source": [
    "#reading last five rows\n",
    "df.tail()"
   ]
  },
  {
   "cell_type": "code",
   "execution_count": 5,
   "id": "7756b064",
   "metadata": {},
   "outputs": [
    {
     "data": {
      "text/plain": [
       "(56661, 78)"
      ]
     },
     "execution_count": 5,
     "metadata": {},
     "output_type": "execute_result"
    }
   ],
   "source": [
    "#shape of the dataset\n",
    "df.shape"
   ]
  },
  {
   "cell_type": "code",
   "execution_count": 6,
   "id": "e0f7a648",
   "metadata": {},
   "outputs": [
    {
     "name": "stdout",
     "output_type": "stream",
     "text": [
      "Number of rows are:     56661\n",
      "Number of columns are:  78\n"
     ]
    }
   ],
   "source": [
    "print(\"Number of rows are:    \",df.shape[0])\n",
    "print(\"Number of columns are: \",df.shape[1])"
   ]
  },
  {
   "cell_type": "code",
   "execution_count": 7,
   "id": "76ea4a06",
   "metadata": {},
   "outputs": [
    {
     "data": {
      "text/plain": [
       "Flow Duration                    int64\n",
       "Total Fwd Packets                int64\n",
       "Total Backward Packets           int64\n",
       "Total Length of Fwd Packets      int64\n",
       "Total Length of Bwd Packets      int64\n",
       "                                ...   \n",
       "Idle Mean                      float64\n",
       "Idle Std                       float64\n",
       "Idle Max                         int64\n",
       "Idle Min                         int64\n",
       "Label                           object\n",
       "Length: 78, dtype: object"
      ]
     },
     "execution_count": 7,
     "metadata": {},
     "output_type": "execute_result"
    }
   ],
   "source": [
    "#datatypes of the dataset\n",
    "df.dtypes"
   ]
  },
  {
   "cell_type": "code",
   "execution_count": 8,
   "id": "5e26987b",
   "metadata": {},
   "outputs": [
    {
     "data": {
      "text/plain": [
       "2"
      ]
     },
     "execution_count": 8,
     "metadata": {},
     "output_type": "execute_result"
    }
   ],
   "source": [
    "#dimension of the dataset\n",
    "df.ndim"
   ]
  },
  {
   "cell_type": "code",
   "execution_count": 9,
   "id": "fadfbfdc",
   "metadata": {},
   "outputs": [
    {
     "name": "stdout",
     "output_type": "stream",
     "text": [
      "<class 'pandas.core.frame.DataFrame'>\n",
      "RangeIndex: 56661 entries, 0 to 56660\n",
      "Data columns (total 78 columns):\n",
      " #   Column                       Non-Null Count  Dtype  \n",
      "---  ------                       --------------  -----  \n",
      " 0   Flow Duration                56661 non-null  int64  \n",
      " 1   Total Fwd Packets            56661 non-null  int64  \n",
      " 2   Total Backward Packets       56661 non-null  int64  \n",
      " 3   Total Length of Fwd Packets  56661 non-null  int64  \n",
      " 4   Total Length of Bwd Packets  56661 non-null  int64  \n",
      " 5   Fwd Packet Length Max        56661 non-null  int64  \n",
      " 6   Fwd Packet Length Min        56661 non-null  int64  \n",
      " 7   Fwd Packet Length Mean       56661 non-null  float64\n",
      " 8   Fwd Packet Length Std        56661 non-null  float64\n",
      " 9   Bwd Packet Length Max        56661 non-null  int64  \n",
      " 10  Bwd Packet Length Min        56661 non-null  int64  \n",
      " 11  Bwd Packet Length Mean       56661 non-null  float64\n",
      " 12  Bwd Packet Length Std        56661 non-null  float64\n",
      " 13  Flow Bytes/s                 56607 non-null  float64\n",
      " 14  Flow Packets/s               56661 non-null  float64\n",
      " 15  Flow IAT Mean                56661 non-null  float64\n",
      " 16  Flow IAT Std                 56661 non-null  float64\n",
      " 17  Flow IAT Max                 56661 non-null  int64  \n",
      " 18  Flow IAT Min                 56661 non-null  int64  \n",
      " 19  Fwd IAT Total                56661 non-null  int64  \n",
      " 20  Fwd IAT Mean                 56661 non-null  float64\n",
      " 21  Fwd IAT Std                  56661 non-null  float64\n",
      " 22  Fwd IAT Max                  56661 non-null  int64  \n",
      " 23  Fwd IAT Min                  56661 non-null  int64  \n",
      " 24  Bwd IAT Total                56661 non-null  int64  \n",
      " 25  Bwd IAT Mean                 56661 non-null  float64\n",
      " 26  Bwd IAT Std                  56661 non-null  float64\n",
      " 27  Bwd IAT Max                  56661 non-null  int64  \n",
      " 28  Bwd IAT Min                  56661 non-null  int64  \n",
      " 29  Fwd PSH Flags                56661 non-null  int64  \n",
      " 30  Bwd PSH Flags                56661 non-null  int64  \n",
      " 31  Fwd URG Flags                56661 non-null  int64  \n",
      " 32  Bwd URG Flags                56661 non-null  int64  \n",
      " 33  Fwd Header Length            56661 non-null  int64  \n",
      " 34  Bwd Header Length            56661 non-null  int64  \n",
      " 35  Fwd Packets/s                56661 non-null  float64\n",
      " 36  Bwd Packets/s                56661 non-null  float64\n",
      " 37  Min Packet Length            56661 non-null  int64  \n",
      " 38  Max Packet Length            56661 non-null  int64  \n",
      " 39  Packet Length Mean           56661 non-null  float64\n",
      " 40  Packet Length Std            56661 non-null  float64\n",
      " 41  Packet Length Variance       56661 non-null  float64\n",
      " 42  FIN Flag Count               56661 non-null  int64  \n",
      " 43  SYN Flag Count               56661 non-null  int64  \n",
      " 44  RST Flag Count               56661 non-null  int64  \n",
      " 45  PSH Flag Count               56661 non-null  int64  \n",
      " 46  ACK Flag Count               56661 non-null  int64  \n",
      " 47  URG Flag Count               56661 non-null  int64  \n",
      " 48  CWE Flag Count               56661 non-null  int64  \n",
      " 49  ECE Flag Count               56661 non-null  int64  \n",
      " 50  Down/Up Ratio                56661 non-null  int64  \n",
      " 51  Average Packet Size          56661 non-null  float64\n",
      " 52  Avg Fwd Segment Size         56661 non-null  float64\n",
      " 53  Avg Bwd Segment Size         56661 non-null  float64\n",
      " 54  Fwd Header Length.1          56661 non-null  int64  \n",
      " 55  Fwd Avg Bytes/Bulk           56661 non-null  int64  \n",
      " 56  Fwd Avg Packets/Bulk         56661 non-null  int64  \n",
      " 57  Fwd Avg Bulk Rate            56661 non-null  int64  \n",
      " 58  Bwd Avg Bytes/Bulk           56661 non-null  int64  \n",
      " 59  Bwd Avg Packets/Bulk         56661 non-null  int64  \n",
      " 60  Bwd Avg Bulk Rate            56661 non-null  int64  \n",
      " 61  Subflow Fwd Packets          56661 non-null  int64  \n",
      " 62  Subflow Fwd Bytes            56661 non-null  int64  \n",
      " 63  Subflow Bwd Packets          56661 non-null  int64  \n",
      " 64  Subflow Bwd Bytes            56661 non-null  int64  \n",
      " 65  Init_Win_bytes_forward       56661 non-null  int64  \n",
      " 66  Init_Win_bytes_backward      56661 non-null  int64  \n",
      " 67  act_data_pkt_fwd             56661 non-null  int64  \n",
      " 68  min_seg_size_forward         56661 non-null  int64  \n",
      " 69  Active Mean                  56661 non-null  float64\n",
      " 70  Active Std                   56661 non-null  float64\n",
      " 71  Active Max                   56661 non-null  int64  \n",
      " 72  Active Min                   56661 non-null  int64  \n",
      " 73  Idle Mean                    56661 non-null  float64\n",
      " 74  Idle Std                     56661 non-null  float64\n",
      " 75  Idle Max                     56661 non-null  int64  \n",
      " 76  Idle Min                     56661 non-null  int64  \n",
      " 77  Label                        56661 non-null  object \n",
      "dtypes: float64(24), int64(53), object(1)\n",
      "memory usage: 33.7+ MB\n"
     ]
    }
   ],
   "source": [
    "#info of the dataset\n",
    "df.info()"
   ]
  },
  {
   "cell_type": "code",
   "execution_count": 10,
   "id": "a8d7e9f0",
   "metadata": {},
   "outputs": [
    {
     "data": {
      "text/html": [
       "<div>\n",
       "<style scoped>\n",
       "    .dataframe tbody tr th:only-of-type {\n",
       "        vertical-align: middle;\n",
       "    }\n",
       "\n",
       "    .dataframe tbody tr th {\n",
       "        vertical-align: top;\n",
       "    }\n",
       "\n",
       "    .dataframe thead th {\n",
       "        text-align: right;\n",
       "    }\n",
       "</style>\n",
       "<table border=\"1\" class=\"dataframe\">\n",
       "  <thead>\n",
       "    <tr style=\"text-align: right;\">\n",
       "      <th></th>\n",
       "      <th>Flow Duration</th>\n",
       "      <th>Total Fwd Packets</th>\n",
       "      <th>Total Backward Packets</th>\n",
       "      <th>Total Length of Fwd Packets</th>\n",
       "      <th>Total Length of Bwd Packets</th>\n",
       "      <th>Fwd Packet Length Max</th>\n",
       "      <th>Fwd Packet Length Min</th>\n",
       "      <th>Fwd Packet Length Mean</th>\n",
       "      <th>Fwd Packet Length Std</th>\n",
       "      <th>Bwd Packet Length Max</th>\n",
       "      <th>...</th>\n",
       "      <th>act_data_pkt_fwd</th>\n",
       "      <th>min_seg_size_forward</th>\n",
       "      <th>Active Mean</th>\n",
       "      <th>Active Std</th>\n",
       "      <th>Active Max</th>\n",
       "      <th>Active Min</th>\n",
       "      <th>Idle Mean</th>\n",
       "      <th>Idle Std</th>\n",
       "      <th>Idle Max</th>\n",
       "      <th>Idle Min</th>\n",
       "    </tr>\n",
       "  </thead>\n",
       "  <tbody>\n",
       "    <tr>\n",
       "      <th>count</th>\n",
       "      <td>5.666100e+04</td>\n",
       "      <td>56661.000000</td>\n",
       "      <td>56661.000000</td>\n",
       "      <td>5.666100e+04</td>\n",
       "      <td>5.666100e+04</td>\n",
       "      <td>56661.000000</td>\n",
       "      <td>56661.000000</td>\n",
       "      <td>56661.000000</td>\n",
       "      <td>56661.000000</td>\n",
       "      <td>56661.000000</td>\n",
       "      <td>...</td>\n",
       "      <td>56661.000000</td>\n",
       "      <td>56661.000000</td>\n",
       "      <td>5.666100e+04</td>\n",
       "      <td>5.666100e+04</td>\n",
       "      <td>5.666100e+04</td>\n",
       "      <td>5.666100e+04</td>\n",
       "      <td>5.666100e+04</td>\n",
       "      <td>5.666100e+04</td>\n",
       "      <td>5.666100e+04</td>\n",
       "      <td>5.666100e+04</td>\n",
       "    </tr>\n",
       "    <tr>\n",
       "      <th>mean</th>\n",
       "      <td>1.940740e+07</td>\n",
       "      <td>5.893348</td>\n",
       "      <td>5.441168</td>\n",
       "      <td>7.325051e+02</td>\n",
       "      <td>5.282417e+03</td>\n",
       "      <td>166.369390</td>\n",
       "      <td>10.105946</td>\n",
       "      <td>43.155072</td>\n",
       "      <td>57.334013</td>\n",
       "      <td>1552.609749</td>\n",
       "      <td>...</td>\n",
       "      <td>3.115794</td>\n",
       "      <td>26.955966</td>\n",
       "      <td>8.127717e+04</td>\n",
       "      <td>2.732128e+04</td>\n",
       "      <td>1.207459e+05</td>\n",
       "      <td>6.484220e+04</td>\n",
       "      <td>1.474432e+07</td>\n",
       "      <td>8.688159e+05</td>\n",
       "      <td>1.539940e+07</td>\n",
       "      <td>1.410650e+07</td>\n",
       "    </tr>\n",
       "    <tr>\n",
       "      <th>std</th>\n",
       "      <td>3.672377e+07</td>\n",
       "      <td>56.898685</td>\n",
       "      <td>66.513164</td>\n",
       "      <td>2.135208e+04</td>\n",
       "      <td>1.092694e+05</td>\n",
       "      <td>669.066176</td>\n",
       "      <td>47.856017</td>\n",
       "      <td>174.087067</td>\n",
       "      <td>224.747519</td>\n",
       "      <td>2773.907899</td>\n",
       "      <td>...</td>\n",
       "      <td>53.236039</td>\n",
       "      <td>6.796834</td>\n",
       "      <td>7.396278e+05</td>\n",
       "      <td>3.340568e+05</td>\n",
       "      <td>9.387816e+05</td>\n",
       "      <td>6.835563e+05</td>\n",
       "      <td>3.214172e+07</td>\n",
       "      <td>6.311718e+06</td>\n",
       "      <td>3.301473e+07</td>\n",
       "      <td>3.191101e+07</td>\n",
       "    </tr>\n",
       "    <tr>\n",
       "      <th>min</th>\n",
       "      <td>0.000000e+00</td>\n",
       "      <td>1.000000</td>\n",
       "      <td>0.000000</td>\n",
       "      <td>0.000000e+00</td>\n",
       "      <td>0.000000e+00</td>\n",
       "      <td>0.000000</td>\n",
       "      <td>0.000000</td>\n",
       "      <td>0.000000</td>\n",
       "      <td>0.000000</td>\n",
       "      <td>0.000000</td>\n",
       "      <td>...</td>\n",
       "      <td>0.000000</td>\n",
       "      <td>0.000000</td>\n",
       "      <td>0.000000e+00</td>\n",
       "      <td>0.000000e+00</td>\n",
       "      <td>0.000000e+00</td>\n",
       "      <td>0.000000e+00</td>\n",
       "      <td>0.000000e+00</td>\n",
       "      <td>0.000000e+00</td>\n",
       "      <td>0.000000e+00</td>\n",
       "      <td>0.000000e+00</td>\n",
       "    </tr>\n",
       "    <tr>\n",
       "      <th>25%</th>\n",
       "      <td>7.200000e+01</td>\n",
       "      <td>1.000000</td>\n",
       "      <td>1.000000</td>\n",
       "      <td>2.000000e+00</td>\n",
       "      <td>0.000000e+00</td>\n",
       "      <td>2.000000</td>\n",
       "      <td>0.000000</td>\n",
       "      <td>2.000000</td>\n",
       "      <td>0.000000</td>\n",
       "      <td>0.000000</td>\n",
       "      <td>...</td>\n",
       "      <td>0.000000</td>\n",
       "      <td>20.000000</td>\n",
       "      <td>0.000000e+00</td>\n",
       "      <td>0.000000e+00</td>\n",
       "      <td>0.000000e+00</td>\n",
       "      <td>0.000000e+00</td>\n",
       "      <td>0.000000e+00</td>\n",
       "      <td>0.000000e+00</td>\n",
       "      <td>0.000000e+00</td>\n",
       "      <td>0.000000e+00</td>\n",
       "    </tr>\n",
       "    <tr>\n",
       "      <th>50%</th>\n",
       "      <td>5.889700e+04</td>\n",
       "      <td>2.000000</td>\n",
       "      <td>2.000000</td>\n",
       "      <td>3.100000e+01</td>\n",
       "      <td>7.900000e+01</td>\n",
       "      <td>20.000000</td>\n",
       "      <td>0.000000</td>\n",
       "      <td>8.666667</td>\n",
       "      <td>0.000000</td>\n",
       "      <td>46.000000</td>\n",
       "      <td>...</td>\n",
       "      <td>1.000000</td>\n",
       "      <td>24.000000</td>\n",
       "      <td>0.000000e+00</td>\n",
       "      <td>0.000000e+00</td>\n",
       "      <td>0.000000e+00</td>\n",
       "      <td>0.000000e+00</td>\n",
       "      <td>0.000000e+00</td>\n",
       "      <td>0.000000e+00</td>\n",
       "      <td>0.000000e+00</td>\n",
       "      <td>0.000000e+00</td>\n",
       "    </tr>\n",
       "    <tr>\n",
       "      <th>75%</th>\n",
       "      <td>8.813192e+06</td>\n",
       "      <td>5.000000</td>\n",
       "      <td>5.000000</td>\n",
       "      <td>2.800000e+02</td>\n",
       "      <td>4.830000e+03</td>\n",
       "      <td>195.000000</td>\n",
       "      <td>6.000000</td>\n",
       "      <td>47.625000</td>\n",
       "      <td>78.488853</td>\n",
       "      <td>1460.000000</td>\n",
       "      <td>...</td>\n",
       "      <td>2.000000</td>\n",
       "      <td>32.000000</td>\n",
       "      <td>0.000000e+00</td>\n",
       "      <td>0.000000e+00</td>\n",
       "      <td>0.000000e+00</td>\n",
       "      <td>0.000000e+00</td>\n",
       "      <td>0.000000e+00</td>\n",
       "      <td>0.000000e+00</td>\n",
       "      <td>0.000000e+00</td>\n",
       "      <td>0.000000e+00</td>\n",
       "    </tr>\n",
       "    <tr>\n",
       "      <th>max</th>\n",
       "      <td>1.200000e+08</td>\n",
       "      <td>6930.000000</td>\n",
       "      <td>9877.000000</td>\n",
       "      <td>2.866110e+06</td>\n",
       "      <td>2.150000e+07</td>\n",
       "      <td>23360.000000</td>\n",
       "      <td>1983.000000</td>\n",
       "      <td>5940.857143</td>\n",
       "      <td>7049.469004</td>\n",
       "      <td>11632.000000</td>\n",
       "      <td>...</td>\n",
       "      <td>5994.000000</td>\n",
       "      <td>60.000000</td>\n",
       "      <td>1.000000e+08</td>\n",
       "      <td>2.610000e+07</td>\n",
       "      <td>1.000000e+08</td>\n",
       "      <td>1.000000e+08</td>\n",
       "      <td>1.190000e+08</td>\n",
       "      <td>6.860000e+07</td>\n",
       "      <td>1.190000e+08</td>\n",
       "      <td>1.190000e+08</td>\n",
       "    </tr>\n",
       "  </tbody>\n",
       "</table>\n",
       "<p>8 rows × 77 columns</p>\n",
       "</div>"
      ],
      "text/plain": [
       "       Flow Duration  Total Fwd Packets  Total Backward Packets  \\\n",
       "count   5.666100e+04       56661.000000            56661.000000   \n",
       "mean    1.940740e+07           5.893348                5.441168   \n",
       "std     3.672377e+07          56.898685               66.513164   \n",
       "min     0.000000e+00           1.000000                0.000000   \n",
       "25%     7.200000e+01           1.000000                1.000000   \n",
       "50%     5.889700e+04           2.000000                2.000000   \n",
       "75%     8.813192e+06           5.000000                5.000000   \n",
       "max     1.200000e+08        6930.000000             9877.000000   \n",
       "\n",
       "       Total Length of Fwd Packets  Total Length of Bwd Packets  \\\n",
       "count                 5.666100e+04                 5.666100e+04   \n",
       "mean                  7.325051e+02                 5.282417e+03   \n",
       "std                   2.135208e+04                 1.092694e+05   \n",
       "min                   0.000000e+00                 0.000000e+00   \n",
       "25%                   2.000000e+00                 0.000000e+00   \n",
       "50%                   3.100000e+01                 7.900000e+01   \n",
       "75%                   2.800000e+02                 4.830000e+03   \n",
       "max                   2.866110e+06                 2.150000e+07   \n",
       "\n",
       "       Fwd Packet Length Max  Fwd Packet Length Min  Fwd Packet Length Mean  \\\n",
       "count           56661.000000           56661.000000            56661.000000   \n",
       "mean              166.369390              10.105946               43.155072   \n",
       "std               669.066176              47.856017              174.087067   \n",
       "min                 0.000000               0.000000                0.000000   \n",
       "25%                 2.000000               0.000000                2.000000   \n",
       "50%                20.000000               0.000000                8.666667   \n",
       "75%               195.000000               6.000000               47.625000   \n",
       "max             23360.000000            1983.000000             5940.857143   \n",
       "\n",
       "       Fwd Packet Length Std  Bwd Packet Length Max  ...  act_data_pkt_fwd  \\\n",
       "count           56661.000000           56661.000000  ...      56661.000000   \n",
       "mean               57.334013            1552.609749  ...          3.115794   \n",
       "std               224.747519            2773.907899  ...         53.236039   \n",
       "min                 0.000000               0.000000  ...          0.000000   \n",
       "25%                 0.000000               0.000000  ...          0.000000   \n",
       "50%                 0.000000              46.000000  ...          1.000000   \n",
       "75%                78.488853            1460.000000  ...          2.000000   \n",
       "max              7049.469004           11632.000000  ...       5994.000000   \n",
       "\n",
       "       min_seg_size_forward   Active Mean    Active Std    Active Max  \\\n",
       "count          56661.000000  5.666100e+04  5.666100e+04  5.666100e+04   \n",
       "mean              26.955966  8.127717e+04  2.732128e+04  1.207459e+05   \n",
       "std                6.796834  7.396278e+05  3.340568e+05  9.387816e+05   \n",
       "min                0.000000  0.000000e+00  0.000000e+00  0.000000e+00   \n",
       "25%               20.000000  0.000000e+00  0.000000e+00  0.000000e+00   \n",
       "50%               24.000000  0.000000e+00  0.000000e+00  0.000000e+00   \n",
       "75%               32.000000  0.000000e+00  0.000000e+00  0.000000e+00   \n",
       "max               60.000000  1.000000e+08  2.610000e+07  1.000000e+08   \n",
       "\n",
       "         Active Min     Idle Mean      Idle Std      Idle Max      Idle Min  \n",
       "count  5.666100e+04  5.666100e+04  5.666100e+04  5.666100e+04  5.666100e+04  \n",
       "mean   6.484220e+04  1.474432e+07  8.688159e+05  1.539940e+07  1.410650e+07  \n",
       "std    6.835563e+05  3.214172e+07  6.311718e+06  3.301473e+07  3.191101e+07  \n",
       "min    0.000000e+00  0.000000e+00  0.000000e+00  0.000000e+00  0.000000e+00  \n",
       "25%    0.000000e+00  0.000000e+00  0.000000e+00  0.000000e+00  0.000000e+00  \n",
       "50%    0.000000e+00  0.000000e+00  0.000000e+00  0.000000e+00  0.000000e+00  \n",
       "75%    0.000000e+00  0.000000e+00  0.000000e+00  0.000000e+00  0.000000e+00  \n",
       "max    1.000000e+08  1.190000e+08  6.860000e+07  1.190000e+08  1.190000e+08  \n",
       "\n",
       "[8 rows x 77 columns]"
      ]
     },
     "execution_count": 10,
     "metadata": {},
     "output_type": "execute_result"
    }
   ],
   "source": [
    "#statistics of the data\n",
    "df.describe()"
   ]
  },
  {
   "cell_type": "markdown",
   "id": "b127956d",
   "metadata": {},
   "source": [
    "# Data Cleaning"
   ]
  },
  {
   "cell_type": "markdown",
   "id": "24129a48",
   "metadata": {},
   "source": [
    "**Let us check whether there are any NULL values present in it**"
   ]
  },
  {
   "cell_type": "code",
   "execution_count": 11,
   "id": "f2df2d32",
   "metadata": {},
   "outputs": [
    {
     "data": {
      "text/plain": [
       "Flow Duration                  0\n",
       "Total Fwd Packets              0\n",
       "Total Backward Packets         0\n",
       "Total Length of Fwd Packets    0\n",
       "Total Length of Bwd Packets    0\n",
       "                              ..\n",
       "Idle Mean                      0\n",
       "Idle Std                       0\n",
       "Idle Max                       0\n",
       "Idle Min                       0\n",
       "Label                          0\n",
       "Length: 78, dtype: int64"
      ]
     },
     "execution_count": 11,
     "metadata": {},
     "output_type": "execute_result"
    }
   ],
   "source": [
    "df.isnull().sum()"
   ]
  },
  {
   "cell_type": "code",
   "execution_count": 12,
   "id": "c74378cf",
   "metadata": {},
   "outputs": [
    {
     "data": {
      "text/plain": [
       "Flow Duration                  False\n",
       "Total Fwd Packets              False\n",
       "Total Backward Packets         False\n",
       "Total Length of Fwd Packets    False\n",
       "Total Length of Bwd Packets    False\n",
       "                               ...  \n",
       "Idle Mean                      False\n",
       "Idle Std                       False\n",
       "Idle Max                       False\n",
       "Idle Min                       False\n",
       "Label                          False\n",
       "Length: 78, dtype: bool"
      ]
     },
     "execution_count": 12,
     "metadata": {},
     "output_type": "execute_result"
    }
   ],
   "source": [
    "df.isnull().sum()!=0"
   ]
  },
  {
   "cell_type": "markdown",
   "id": "ccbb0249",
   "metadata": {},
   "source": [
    "**There are 78 columns with no NULL values.Therefore there are no NULL value columns present in the dataset**"
   ]
  },
  {
   "cell_type": "code",
   "execution_count": 13,
   "id": "034be82a",
   "metadata": {},
   "outputs": [
    {
     "data": {
      "text/plain": [
       "BENIGN          22731\n",
       "DoS             19035\n",
       "PortScan         7946\n",
       "BruteForce       2767\n",
       "WebAttack        2180\n",
       "Bot              1966\n",
       "Infiltration       36\n",
       "Name: Label, dtype: int64"
      ]
     },
     "execution_count": 13,
     "metadata": {},
     "output_type": "execute_result"
    }
   ],
   "source": [
    "#target column\n",
    "df.Label.value_counts()"
   ]
  },
  {
   "cell_type": "markdown",
   "id": "b137e8b3",
   "metadata": {},
   "source": [
    "# Label Encoder"
   ]
  },
  {
   "cell_type": "markdown",
   "id": "e2ed8b6a",
   "metadata": {},
   "source": [
    "**Converts the categorical column to numerical column**"
   ]
  },
  {
   "cell_type": "code",
   "execution_count": 14,
   "id": "724fd683",
   "metadata": {},
   "outputs": [],
   "source": [
    "from sklearn.preprocessing import LabelEncoder\n",
    "label = LabelEncoder()\n",
    "df['Label'] = label.fit_transform(df['Label'])"
   ]
  },
  {
   "cell_type": "code",
   "execution_count": 15,
   "id": "1b753c6c",
   "metadata": {},
   "outputs": [
    {
     "data": {
      "text/plain": [
       "array([0, 3, 5, 1, 4, 6, 2])"
      ]
     },
     "execution_count": 15,
     "metadata": {},
     "output_type": "execute_result"
    }
   ],
   "source": [
    "df['Label'].unique()"
   ]
  },
  {
   "cell_type": "code",
   "execution_count": 16,
   "id": "5c18dd54",
   "metadata": {},
   "outputs": [
    {
     "data": {
      "text/plain": [
       "0    22731\n",
       "3    19035\n",
       "5     7946\n",
       "2     2767\n",
       "6     2180\n",
       "1     1966\n",
       "4       36\n",
       "Name: Label, dtype: int64"
      ]
     },
     "execution_count": 16,
     "metadata": {},
     "output_type": "execute_result"
    }
   ],
   "source": [
    "df['Label'].value_counts()"
   ]
  },
  {
   "cell_type": "code",
   "execution_count": 17,
   "id": "ccb2653d",
   "metadata": {},
   "outputs": [
    {
     "data": {
      "text/plain": [
       "array(['BENIGN', 'DoS', 'PortScan', 'Bot', 'Infiltration', 'WebAttack',\n",
       "       'BruteForce'], dtype=object)"
      ]
     },
     "execution_count": 17,
     "metadata": {},
     "output_type": "execute_result"
    }
   ],
   "source": [
    "# decoding it\n",
    "label.inverse_transform([0, 3, 5, 1, 4, 6, 2])"
   ]
  },
  {
   "cell_type": "code",
   "execution_count": 18,
   "id": "345326d1",
   "metadata": {},
   "outputs": [],
   "source": [
    "#dividing into dependent(target) and independent features\n",
    "x = df.iloc[:,:-1]\n",
    "y = df.iloc[:,-1]"
   ]
  },
  {
   "cell_type": "code",
   "execution_count": 19,
   "id": "dde6dfe6",
   "metadata": {},
   "outputs": [
    {
     "data": {
      "text/plain": [
       "0    22731\n",
       "3    19035\n",
       "5     7946\n",
       "2     2767\n",
       "6     2180\n",
       "1     1966\n",
       "4       36\n",
       "Name: Label, dtype: int64"
      ]
     },
     "execution_count": 19,
     "metadata": {},
     "output_type": "execute_result"
    }
   ],
   "source": [
    "#count of each class in the target column\n",
    "y.value_counts()"
   ]
  },
  {
   "cell_type": "markdown",
   "id": "55011a4c",
   "metadata": {},
   "source": [
    "**There is some irregularity. Now the model get biased because of this unbalanced data**"
   ]
  },
  {
   "cell_type": "markdown",
   "id": "1589572a",
   "metadata": {},
   "source": [
    "# Handling the UnBalanced data"
   ]
  },
  {
   "cell_type": "code",
   "execution_count": 20,
   "id": "ea2d17e0",
   "metadata": {},
   "outputs": [],
   "source": [
    "#replacing infinity or nan value with zero if any exists\n",
    "x= x.replace((np.inf, -np.inf, np.nan), 0).reset_index(drop=True)\n",
    "\n",
    "from imblearn.over_sampling import SMOTE\n",
    "SM = SMOTE(random_state=0,sampling_strategy={3:22731,5:22731,2:22731,6:22731,1:22731,4:22731})\n",
    "x_osam,y_osam = SM.fit_resample(x,y)"
   ]
  },
  {
   "cell_type": "code",
   "execution_count": 21,
   "id": "2c3897d0",
   "metadata": {},
   "outputs": [
    {
     "data": {
      "text/plain": [
       "0    22731\n",
       "1    22731\n",
       "2    22731\n",
       "3    22731\n",
       "4    22731\n",
       "5    22731\n",
       "6    22731\n",
       "Name: Label, dtype: int64"
      ]
     },
     "execution_count": 21,
     "metadata": {},
     "output_type": "execute_result"
    }
   ],
   "source": [
    "y_osam.value_counts()"
   ]
  },
  {
   "cell_type": "markdown",
   "id": "2fa562af",
   "metadata": {},
   "source": [
    "# Train-Test-Split"
   ]
  },
  {
   "cell_type": "code",
   "execution_count": 22,
   "id": "ffdd1708",
   "metadata": {},
   "outputs": [],
   "source": [
    "from sklearn.model_selection import train_test_split"
   ]
  },
  {
   "cell_type": "code",
   "execution_count": 23,
   "id": "12594c47",
   "metadata": {},
   "outputs": [],
   "source": [
    "#dividing into train test \n",
    "x_train,x_test,y_train,y_test = train_test_split(x_osam,y_osam,test_size=0.33,random_state=25)"
   ]
  },
  {
   "cell_type": "code",
   "execution_count": 24,
   "id": "993363f1",
   "metadata": {},
   "outputs": [
    {
     "data": {
      "text/plain": [
       "4    15329\n",
       "1    15319\n",
       "2    15297\n",
       "5    15228\n",
       "0    15182\n",
       "3    15165\n",
       "6    15088\n",
       "Name: Label, dtype: int64"
      ]
     },
     "execution_count": 24,
     "metadata": {},
     "output_type": "execute_result"
    }
   ],
   "source": [
    "#distribution of class in the y train\n",
    "y_train.value_counts()"
   ]
  },
  {
   "cell_type": "code",
   "execution_count": 25,
   "id": "af686958",
   "metadata": {},
   "outputs": [],
   "source": [
    "x_osam_train = x_train\n",
    "y_osam_train = y_train"
   ]
  },
  {
   "cell_type": "markdown",
   "id": "c773b71e",
   "metadata": {},
   "source": [
    "# Feature Scaling"
   ]
  },
  {
   "cell_type": "code",
   "execution_count": 26,
   "id": "b948a175",
   "metadata": {},
   "outputs": [
    {
     "data": {
      "text/plain": [
       "Index(['Flow Duration', 'Total Fwd Packets', 'Total Backward Packets',\n",
       "       'Total Length of Fwd Packets', 'Total Length of Bwd Packets',\n",
       "       'Fwd Packet Length Max', 'Fwd Packet Length Min',\n",
       "       'Fwd Packet Length Mean', 'Fwd Packet Length Std',\n",
       "       'Bwd Packet Length Max', 'Bwd Packet Length Min',\n",
       "       'Bwd Packet Length Mean', 'Bwd Packet Length Std', 'Flow Bytes/s',\n",
       "       'Flow Packets/s', 'Flow IAT Mean', 'Flow IAT Std', 'Flow IAT Max',\n",
       "       'Flow IAT Min', 'Fwd IAT Total', 'Fwd IAT Mean', 'Fwd IAT Std',\n",
       "       'Fwd IAT Max', 'Fwd IAT Min', 'Bwd IAT Total', 'Bwd IAT Mean',\n",
       "       'Bwd IAT Std', 'Bwd IAT Max', 'Bwd IAT Min', 'Fwd PSH Flags',\n",
       "       'Bwd PSH Flags', 'Fwd URG Flags', 'Bwd URG Flags', 'Fwd Header Length',\n",
       "       'Bwd Header Length', 'Fwd Packets/s', 'Bwd Packets/s',\n",
       "       'Min Packet Length', 'Max Packet Length', 'Packet Length Mean',\n",
       "       'Packet Length Std', 'Packet Length Variance', 'FIN Flag Count',\n",
       "       'SYN Flag Count', 'RST Flag Count', 'PSH Flag Count', 'ACK Flag Count',\n",
       "       'URG Flag Count', 'CWE Flag Count', 'ECE Flag Count', 'Down/Up Ratio',\n",
       "       'Average Packet Size', 'Avg Fwd Segment Size', 'Avg Bwd Segment Size',\n",
       "       'Fwd Header Length.1', 'Fwd Avg Bytes/Bulk', 'Fwd Avg Packets/Bulk',\n",
       "       'Fwd Avg Bulk Rate', 'Bwd Avg Bytes/Bulk', 'Bwd Avg Packets/Bulk',\n",
       "       'Bwd Avg Bulk Rate', 'Subflow Fwd Packets', 'Subflow Fwd Bytes',\n",
       "       'Subflow Bwd Packets', 'Subflow Bwd Bytes', 'Init_Win_bytes_forward',\n",
       "       'Init_Win_bytes_backward', 'act_data_pkt_fwd', 'min_seg_size_forward',\n",
       "       'Active Mean', 'Active Std', 'Active Max', 'Active Min', 'Idle Mean',\n",
       "       'Idle Std', 'Idle Max', 'Idle Min'],\n",
       "      dtype='object')"
      ]
     },
     "execution_count": 26,
     "metadata": {},
     "output_type": "execute_result"
    }
   ],
   "source": [
    "#finding numerical datatype columns or features\n",
    "features = x_osam_train.dtypes[x_osam_train.dtypes!='object'].index\n",
    "features"
   ]
  },
  {
   "cell_type": "code",
   "execution_count": 27,
   "id": "823fa815",
   "metadata": {},
   "outputs": [],
   "source": [
    "x_osam_train[features]=x_osam_train[features].apply(lambda x: (x - x.mean())/(x.std()))"
   ]
  },
  {
   "cell_type": "code",
   "execution_count": 28,
   "id": "0a6fda96",
   "metadata": {},
   "outputs": [
    {
     "data": {
      "text/html": [
       "<div>\n",
       "<style scoped>\n",
       "    .dataframe tbody tr th:only-of-type {\n",
       "        vertical-align: middle;\n",
       "    }\n",
       "\n",
       "    .dataframe tbody tr th {\n",
       "        vertical-align: top;\n",
       "    }\n",
       "\n",
       "    .dataframe thead th {\n",
       "        text-align: right;\n",
       "    }\n",
       "</style>\n",
       "<table border=\"1\" class=\"dataframe\">\n",
       "  <thead>\n",
       "    <tr style=\"text-align: right;\">\n",
       "      <th></th>\n",
       "      <th>Flow Duration</th>\n",
       "      <th>Total Fwd Packets</th>\n",
       "      <th>Total Backward Packets</th>\n",
       "      <th>Total Length of Fwd Packets</th>\n",
       "      <th>Total Length of Bwd Packets</th>\n",
       "      <th>Fwd Packet Length Max</th>\n",
       "      <th>Fwd Packet Length Min</th>\n",
       "      <th>Fwd Packet Length Mean</th>\n",
       "      <th>Fwd Packet Length Std</th>\n",
       "      <th>Bwd Packet Length Max</th>\n",
       "      <th>...</th>\n",
       "      <th>act_data_pkt_fwd</th>\n",
       "      <th>min_seg_size_forward</th>\n",
       "      <th>Active Mean</th>\n",
       "      <th>Active Std</th>\n",
       "      <th>Active Max</th>\n",
       "      <th>Active Min</th>\n",
       "      <th>Idle Mean</th>\n",
       "      <th>Idle Std</th>\n",
       "      <th>Idle Max</th>\n",
       "      <th>Idle Min</th>\n",
       "    </tr>\n",
       "  </thead>\n",
       "  <tbody>\n",
       "    <tr>\n",
       "      <th>142258</th>\n",
       "      <td>-0.312210</td>\n",
       "      <td>-0.189112</td>\n",
       "      <td>-0.188178</td>\n",
       "      <td>-0.178344</td>\n",
       "      <td>-0.040975</td>\n",
       "      <td>0.313776</td>\n",
       "      <td>-0.154329</td>\n",
       "      <td>0.262037</td>\n",
       "      <td>0.786867</td>\n",
       "      <td>-0.172092</td>\n",
       "      <td>...</td>\n",
       "      <td>-0.189469</td>\n",
       "      <td>0.744089</td>\n",
       "      <td>-0.205955</td>\n",
       "      <td>-0.146416</td>\n",
       "      <td>-0.203591</td>\n",
       "      <td>-0.197716</td>\n",
       "      <td>-0.396536</td>\n",
       "      <td>-0.260515</td>\n",
       "      <td>-0.423070</td>\n",
       "      <td>-0.358284</td>\n",
       "    </tr>\n",
       "    <tr>\n",
       "      <th>101138</th>\n",
       "      <td>-0.113591</td>\n",
       "      <td>-0.157323</td>\n",
       "      <td>-0.157994</td>\n",
       "      <td>-0.150813</td>\n",
       "      <td>-0.044043</td>\n",
       "      <td>0.699952</td>\n",
       "      <td>0.040485</td>\n",
       "      <td>0.671216</td>\n",
       "      <td>0.921621</td>\n",
       "      <td>-0.355858</td>\n",
       "      <td>...</td>\n",
       "      <td>-0.154505</td>\n",
       "      <td>-1.072977</td>\n",
       "      <td>1.087754</td>\n",
       "      <td>-0.146416</td>\n",
       "      <td>0.710862</td>\n",
       "      <td>1.559081</td>\n",
       "      <td>0.116291</td>\n",
       "      <td>-0.260515</td>\n",
       "      <td>0.048581</td>\n",
       "      <td>0.173209</td>\n",
       "    </tr>\n",
       "    <tr>\n",
       "      <th>99611</th>\n",
       "      <td>2.086132</td>\n",
       "      <td>-0.189112</td>\n",
       "      <td>-0.185001</td>\n",
       "      <td>-0.179167</td>\n",
       "      <td>0.113535</td>\n",
       "      <td>0.054658</td>\n",
       "      <td>-0.154329</td>\n",
       "      <td>0.027604</td>\n",
       "      <td>0.304299</td>\n",
       "      <td>1.859535</td>\n",
       "      <td>...</td>\n",
       "      <td>-0.189469</td>\n",
       "      <td>-1.072977</td>\n",
       "      <td>-0.205955</td>\n",
       "      <td>-0.146416</td>\n",
       "      <td>-0.203591</td>\n",
       "      <td>-0.197716</td>\n",
       "      <td>3.629472</td>\n",
       "      <td>-0.260515</td>\n",
       "      <td>3.279674</td>\n",
       "      <td>3.814264</td>\n",
       "    </tr>\n",
       "    <tr>\n",
       "      <th>50586</th>\n",
       "      <td>-0.548483</td>\n",
       "      <td>-0.192291</td>\n",
       "      <td>-0.194533</td>\n",
       "      <td>-0.180302</td>\n",
       "      <td>-0.045983</td>\n",
       "      <td>-0.288498</td>\n",
       "      <td>-0.154329</td>\n",
       "      <td>-0.295786</td>\n",
       "      <td>-0.326387</td>\n",
       "      <td>-0.357900</td>\n",
       "      <td>...</td>\n",
       "      <td>-0.191059</td>\n",
       "      <td>0.744089</td>\n",
       "      <td>-0.205955</td>\n",
       "      <td>-0.146416</td>\n",
       "      <td>-0.203591</td>\n",
       "      <td>-0.197716</td>\n",
       "      <td>-0.396536</td>\n",
       "      <td>-0.260515</td>\n",
       "      <td>-0.423070</td>\n",
       "      <td>-0.358284</td>\n",
       "    </tr>\n",
       "    <tr>\n",
       "      <th>19274</th>\n",
       "      <td>-0.548482</td>\n",
       "      <td>-0.193881</td>\n",
       "      <td>-0.192944</td>\n",
       "      <td>-0.180302</td>\n",
       "      <td>-0.045983</td>\n",
       "      <td>-0.288498</td>\n",
       "      <td>-0.154329</td>\n",
       "      <td>-0.295786</td>\n",
       "      <td>-0.326387</td>\n",
       "      <td>-0.357900</td>\n",
       "      <td>...</td>\n",
       "      <td>-0.191059</td>\n",
       "      <td>0.744089</td>\n",
       "      <td>-0.205955</td>\n",
       "      <td>-0.146416</td>\n",
       "      <td>-0.203591</td>\n",
       "      <td>-0.197716</td>\n",
       "      <td>-0.396536</td>\n",
       "      <td>-0.260515</td>\n",
       "      <td>-0.423070</td>\n",
       "      <td>-0.358284</td>\n",
       "    </tr>\n",
       "  </tbody>\n",
       "</table>\n",
       "<p>5 rows × 77 columns</p>\n",
       "</div>"
      ],
      "text/plain": [
       "        Flow Duration  Total Fwd Packets  Total Backward Packets  \\\n",
       "142258      -0.312210          -0.189112               -0.188178   \n",
       "101138      -0.113591          -0.157323               -0.157994   \n",
       "99611        2.086132          -0.189112               -0.185001   \n",
       "50586       -0.548483          -0.192291               -0.194533   \n",
       "19274       -0.548482          -0.193881               -0.192944   \n",
       "\n",
       "        Total Length of Fwd Packets  Total Length of Bwd Packets  \\\n",
       "142258                    -0.178344                    -0.040975   \n",
       "101138                    -0.150813                    -0.044043   \n",
       "99611                     -0.179167                     0.113535   \n",
       "50586                     -0.180302                    -0.045983   \n",
       "19274                     -0.180302                    -0.045983   \n",
       "\n",
       "        Fwd Packet Length Max  Fwd Packet Length Min  Fwd Packet Length Mean  \\\n",
       "142258               0.313776              -0.154329                0.262037   \n",
       "101138               0.699952               0.040485                0.671216   \n",
       "99611                0.054658              -0.154329                0.027604   \n",
       "50586               -0.288498              -0.154329               -0.295786   \n",
       "19274               -0.288498              -0.154329               -0.295786   \n",
       "\n",
       "        Fwd Packet Length Std  Bwd Packet Length Max  ...  act_data_pkt_fwd  \\\n",
       "142258               0.786867              -0.172092  ...         -0.189469   \n",
       "101138               0.921621              -0.355858  ...         -0.154505   \n",
       "99611                0.304299               1.859535  ...         -0.189469   \n",
       "50586               -0.326387              -0.357900  ...         -0.191059   \n",
       "19274               -0.326387              -0.357900  ...         -0.191059   \n",
       "\n",
       "        min_seg_size_forward  Active Mean  Active Std  Active Max  Active Min  \\\n",
       "142258              0.744089    -0.205955   -0.146416   -0.203591   -0.197716   \n",
       "101138             -1.072977     1.087754   -0.146416    0.710862    1.559081   \n",
       "99611              -1.072977    -0.205955   -0.146416   -0.203591   -0.197716   \n",
       "50586               0.744089    -0.205955   -0.146416   -0.203591   -0.197716   \n",
       "19274               0.744089    -0.205955   -0.146416   -0.203591   -0.197716   \n",
       "\n",
       "        Idle Mean  Idle Std  Idle Max  Idle Min  \n",
       "142258  -0.396536 -0.260515 -0.423070 -0.358284  \n",
       "101138   0.116291 -0.260515  0.048581  0.173209  \n",
       "99611    3.629472 -0.260515  3.279674  3.814264  \n",
       "50586   -0.396536 -0.260515 -0.423070 -0.358284  \n",
       "19274   -0.396536 -0.260515 -0.423070 -0.358284  \n",
       "\n",
       "[5 rows x 77 columns]"
      ]
     },
     "execution_count": 28,
     "metadata": {},
     "output_type": "execute_result"
    }
   ],
   "source": [
    "#first 5 rows or records\n",
    "x_osam_train.head()"
   ]
  },
  {
   "cell_type": "markdown",
   "id": "92c6c28f",
   "metadata": {},
   "source": [
    "#  Feature Extraction"
   ]
  },
  {
   "cell_type": "markdown",
   "id": "70693324",
   "metadata": {},
   "source": [
    "**We are PCA On the features to reduce the count of features but not the information contained by them**"
   ]
  },
  {
   "cell_type": "code",
   "execution_count": 29,
   "id": "8a20dad3",
   "metadata": {},
   "outputs": [],
   "source": [
    "x_osam_train= x_osam_train.replace((np.inf, -np.inf, np.nan), 0).reset_index(drop=True)"
   ]
  },
  {
   "cell_type": "code",
   "execution_count": 30,
   "id": "9c13625b",
   "metadata": {},
   "outputs": [],
   "source": [
    "from sklearn.decomposition import PCA\n",
    "pca = PCA(n_components=10)\n",
    "pca.fit(x_osam_train,y_osam_train)\n",
    "x_train = pca.transform(x_osam_train)"
   ]
  },
  {
   "cell_type": "code",
   "execution_count": 31,
   "id": "d5169104",
   "metadata": {},
   "outputs": [],
   "source": [
    "x_train = pd.DataFrame(data=x_train,columns=[\"Comp1\",\"Comp2\",\"Comp3\",\"Comp4\",\"Comp5\",\"Comp6\",\"Comp7\",\"Comp8\",\"Comp9\",\"Comp10\"])\n",
    "y_train = y_osam_train"
   ]
  },
  {
   "cell_type": "code",
   "execution_count": 32,
   "id": "45936767",
   "metadata": {},
   "outputs": [
    {
     "data": {
      "text/plain": [
       "(106608, 10)"
      ]
     },
     "execution_count": 32,
     "metadata": {},
     "output_type": "execute_result"
    }
   ],
   "source": [
    "x_train.shape"
   ]
  },
  {
   "cell_type": "code",
   "execution_count": 33,
   "id": "63db23e2",
   "metadata": {},
   "outputs": [
    {
     "data": {
      "text/plain": [
       "(106608,)"
      ]
     },
     "execution_count": 33,
     "metadata": {},
     "output_type": "execute_result"
    }
   ],
   "source": [
    "y_train.shape"
   ]
  },
  {
   "cell_type": "markdown",
   "id": "36107311",
   "metadata": {},
   "source": [
    "# Model Building"
   ]
  },
  {
   "cell_type": "code",
   "execution_count": 34,
   "id": "89f6fa08",
   "metadata": {},
   "outputs": [
    {
     "data": {
      "text/plain": [
       "KNeighborsClassifier(n_neighbors=4)"
      ]
     },
     "execution_count": 34,
     "metadata": {},
     "output_type": "execute_result"
    }
   ],
   "source": [
    "from sklearn.neighbors import KNeighborsClassifier\n",
    "model = KNeighborsClassifier(n_neighbors=4)\n",
    "model.fit(x_train,y_train)"
   ]
  },
  {
   "cell_type": "markdown",
   "id": "1bab8614",
   "metadata": {},
   "source": [
    "# Model Evaluation"
   ]
  },
  {
   "cell_type": "code",
   "execution_count": 35,
   "id": "7c330d99",
   "metadata": {},
   "outputs": [],
   "source": [
    "x_test[features]=x_test[features].apply(lambda x: (x - x.mean())/(x.std()))\n",
    "x_test = x_test.replace((np.inf, -np.inf, np.nan), 0).reset_index(drop=True)\n",
    "x_test = pca.transform(x_test)"
   ]
  },
  {
   "cell_type": "code",
   "execution_count": 36,
   "id": "bc08003b",
   "metadata": {},
   "outputs": [],
   "source": [
    "y_pred_test = model.predict(x_test)"
   ]
  },
  {
   "cell_type": "code",
   "execution_count": 37,
   "id": "feaa78fb",
   "metadata": {},
   "outputs": [],
   "source": [
    "from sklearn.metrics import confusion_matrix,classification_report"
   ]
  },
  {
   "cell_type": "code",
   "execution_count": 38,
   "id": "d647b609",
   "metadata": {},
   "outputs": [
    {
     "data": {
      "text/plain": [
       "array([[7258, 2200,  740, 1052,   60, 2790,  273],\n",
       "       [  75, 5211,    3,    1,    0,    0,    0],\n",
       "       [  55,    0, 6647,    3,    0,    3,  122],\n",
       "       [  68,    0,    4, 6507,    0,    4,    3],\n",
       "       [  30,    1,    0,    0, 7342,    0,    0],\n",
       "       [  10,    0,    0,    1,    0, 4705,    0],\n",
       "       [  53,    0,   40,    2,    0,    1, 7245]], dtype=int64)"
      ]
     },
     "execution_count": 38,
     "metadata": {},
     "output_type": "execute_result"
    }
   ],
   "source": [
    "confusion_matrix(y_pred_test,y_test)"
   ]
  },
  {
   "cell_type": "code",
   "execution_count": 39,
   "id": "04e56d81",
   "metadata": {},
   "outputs": [
    {
     "name": "stdout",
     "output_type": "stream",
     "text": [
      "              precision    recall  f1-score   support\n",
      "\n",
      "           0       0.96      0.50      0.66     14373\n",
      "           1       0.70      0.99      0.82      5290\n",
      "           2       0.89      0.97      0.93      6830\n",
      "           3       0.86      0.99      0.92      6586\n",
      "           4       0.99      1.00      0.99      7373\n",
      "           5       0.63      1.00      0.77      4716\n",
      "           6       0.95      0.99      0.97      7341\n",
      "\n",
      "    accuracy                           0.86     52509\n",
      "   macro avg       0.86      0.92      0.87     52509\n",
      "weighted avg       0.89      0.86      0.84     52509\n",
      "\n"
     ]
    }
   ],
   "source": [
    "print(classification_report(y_pred_test,y_test))"
   ]
  },
  {
   "cell_type": "code",
   "execution_count": 40,
   "id": "ba58a049",
   "metadata": {},
   "outputs": [
    {
     "name": "stdout",
     "output_type": "stream",
     "text": [
      "0.8553771734369346\n"
     ]
    }
   ],
   "source": [
    "from sklearn.metrics import accuracy_score\n",
    "print(accuracy_score(y_pred_test,y_test))"
   ]
  },
  {
   "cell_type": "markdown",
   "id": "a8b167b0",
   "metadata": {},
   "source": [
    "# Elbow Method"
   ]
  },
  {
   "cell_type": "code",
   "execution_count": 41,
   "id": "67fb25b5",
   "metadata": {},
   "outputs": [],
   "source": [
    "errors = []\n",
    "for i in range(1,40):\n",
    "    model = KNeighborsClassifier(n_neighbors=i)\n",
    "    model.fit(x_train,y_train)\n",
    "    y_pred = model.predict(x_test)\n",
    "    error = np.mean(y_pred!=y_test)\n",
    "    errors.append(error)"
   ]
  },
  {
   "cell_type": "code",
   "execution_count": 42,
   "id": "dd8199fb",
   "metadata": {},
   "outputs": [],
   "source": [
    "#plotting a graph for the errors\n",
    "# fig = plt.figure()\n",
    "# ax = fig.add_axes([0,0,1,1])\n",
    "# ax.plot(range(1,40),errors,linestyle='dashed',marker='o',color='k')\n",
    "# plt.xticks([20,21,22,23])\n",
    "# plt.xlabel(\"K value\")\n",
    "# plt.ylabel(\"Error corresponding to K\")\n",
    "# plt.show()"
   ]
  },
  {
   "cell_type": "code",
   "execution_count": null,
   "id": "80fdcd63",
   "metadata": {},
   "outputs": [],
   "source": []
  },
  {
   "cell_type": "markdown",
   "id": "54afead0",
   "metadata": {},
   "source": [
    "**Model Building with thes Best parameters**"
   ]
  },
  {
   "cell_type": "code",
   "execution_count": 53,
   "id": "afbbd668",
   "metadata": {},
   "outputs": [
    {
     "data": {
      "text/plain": [
       "KNeighborsClassifier(n_neighbors=23)"
      ]
     },
     "execution_count": 53,
     "metadata": {},
     "output_type": "execute_result"
    }
   ],
   "source": [
    "from sklearn.neighbors import KNeighborsClassifier\n",
    "model = KNeighborsClassifier(n_neighbors=23)\n",
    "model.fit(x_train,y_train)"
   ]
  },
  {
   "cell_type": "code",
   "execution_count": 54,
   "id": "5d9c3a1e",
   "metadata": {},
   "outputs": [],
   "source": [
    "y_pred_test = model.predict(x_test)"
   ]
  },
  {
   "cell_type": "code",
   "execution_count": 55,
   "id": "e2860d9d",
   "metadata": {},
   "outputs": [
    {
     "data": {
      "text/plain": [
       "array([[6800,  525,   67,  444,   44,  639,   45],\n",
       "       [ 208, 6885,    2,    1,    2,    0,    0],\n",
       "       [ 134,    0, 7337,   11,    0,    0,  254],\n",
       "       [ 140,    0,    9, 7104,    0,    4,    2],\n",
       "       [ 101,    2,    2,    2, 7356,    5,    0],\n",
       "       [  79,    0,    4,    1,    0, 6854,    0],\n",
       "       [  87,    0,   13,    3,    0,    1, 7342]], dtype=int64)"
      ]
     },
     "execution_count": 55,
     "metadata": {},
     "output_type": "execute_result"
    }
   ],
   "source": [
    "confusion_matrix(y_pred_test,y_test)"
   ]
  },
  {
   "cell_type": "code",
   "execution_count": 56,
   "id": "a59fbd5c",
   "metadata": {},
   "outputs": [
    {
     "name": "stdout",
     "output_type": "stream",
     "text": [
      "              precision    recall  f1-score   support\n",
      "\n",
      "           0       0.90      0.79      0.84      8564\n",
      "           1       0.93      0.97      0.95      7098\n",
      "           2       0.99      0.95      0.97      7736\n",
      "           3       0.94      0.98      0.96      7259\n",
      "           4       0.99      0.99      0.99      7468\n",
      "           5       0.91      0.99      0.95      6938\n",
      "           6       0.96      0.99      0.97      7446\n",
      "\n",
      "    accuracy                           0.95     52509\n",
      "   macro avg       0.95      0.95      0.95     52509\n",
      "weighted avg       0.95      0.95      0.95     52509\n",
      "\n"
     ]
    }
   ],
   "source": [
    "print(classification_report(y_pred_test,y_test))"
   ]
  },
  {
   "cell_type": "code",
   "execution_count": 57,
   "id": "57f71ad9",
   "metadata": {},
   "outputs": [
    {
     "data": {
      "text/plain": [
       "0.9460854329733951"
      ]
     },
     "execution_count": 57,
     "metadata": {},
     "output_type": "execute_result"
    }
   ],
   "source": [
    "accuracy_score(y_pred_test,y_test)"
   ]
  },
  {
   "cell_type": "markdown",
   "id": "a6576553",
   "metadata": {},
   "source": [
    "**Previously the Accuracy was 0.8552248186025253 and Now it was 0.9452665257384448. So the model performance has improved by k value**"
   ]
  }
 ],
 "metadata": {
  "kernelspec": {
   "display_name": "Python 3",
   "language": "python",
   "name": "python3"
  },
  "language_info": {
   "codemirror_mode": {
    "name": "ipython",
    "version": 3
   },
   "file_extension": ".py",
   "mimetype": "text/x-python",
   "name": "python",
   "nbconvert_exporter": "python",
   "pygments_lexer": "ipython3",
   "version": "3.8.8"
  }
 },
 "nbformat": 4,
 "nbformat_minor": 5
}
